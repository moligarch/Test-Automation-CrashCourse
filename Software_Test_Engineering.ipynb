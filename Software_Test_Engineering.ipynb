{
 "cells": [
  {
   "cell_type": "markdown",
   "metadata": {},
   "source": [
    "# Software Test Engineering\n",
    "I tried to describe anything you need for `Software Testing Automation` with practical mindset. hope you enjoy it and learn a lot! "
   ]
  },
  {
   "cell_type": "markdown",
   "metadata": {},
   "source": [
    "## Subjects\n",
    "\n",
    "As a software testing enthusiast (you), you need to learn the below subjects so you could perform software testing:\n",
    "\n",
    "- **Python Programming**\n",
    "    + Initialize virtual environment and installation\n",
    "    + Lists, dictionaries and data types\n",
    "    + Loops (for, while)\n",
    "    + Functions defenition and declaration\n",
    "- **Object Oriented Programming**\n",
    "    + Attributes\n",
    "    + Methods\n",
    "    + `__init__` & `__str__`\n",
    "    + Inheritance (parent and child class)\n",
    "- **Pytest Framework**\n",
    "    + Getting strat with pytest\n",
    "    + Write `test function`\n",
    "        + helper function\n",
    "        + grouping test\n",
    "        + runnig tests\n",
    "    + Fixtures\n",
    "        + getting start with fixture concept\n",
    "        + `conftest.py` configuration\n",
    "        + scope\n",
    "        + multi-level fixtures\n",
    "        + built-in fixtures\n",
    "    + Parametrization\n",
    "        + parametrize function\n",
    "        + parametrize fixture\n",
    "        + pytest_generate_test\n",
    "- **Selenium**\n",
    "    + Syntax\n",
    "    + Drivers\n",
    "- **CSS Selectors**\n",
    "    + Tag\n",
    "    + Class\n",
    "    + Id\n",
    "    + Tips on XPath"
   ]
  },
  {
   "cell_type": "markdown",
   "metadata": {},
   "source": []
  }
 ],
 "metadata": {
  "kernelspec": {
   "display_name": "Python 3 (ipykernel)",
   "language": "python",
   "name": "python3"
  },
  "language_info": {
   "codemirror_mode": {
    "name": "ipython",
    "version": 3
   },
   "file_extension": ".py",
   "mimetype": "text/x-python",
   "name": "python",
   "nbconvert_exporter": "python",
   "pygments_lexer": "ipython3",
   "version": "3.11.2"
  }
 },
 "nbformat": 4,
 "nbformat_minor": 2
}
